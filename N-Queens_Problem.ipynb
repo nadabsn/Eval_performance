{
 "cells": [
  {
   "cell_type": "code",
   "execution_count": null,
   "metadata": {},
   "outputs": [],
   "source": [
    "print (\"Enter the number of queens\")\n",
    "N = int(input())\n",
    "chess_board = [[0]*N for _ in range(N)]\n",
    "\n",
    "def chercher(i, j):\n",
    "    #checking if there is a queen in row or column\n",
    "    for k in range(0,N):\n",
    "        if chess_board[i][k]== 1 or chess_board[k][j]==1:\n",
    "            return True\n",
    "    for k in range(0,N):\n",
    "        for l in range(0,N):\n",
    "            if (k+l==i+j) or (k-l==i-j):\n",
    "                if chess_board[k][l]==1:\n",
    "                    return True\n",
    "    return False\n",
    "\n",
    "def Solution(n):\n",
    "    if n==0:\n",
    "        return True\n",
    "    for i in range(0,N):\n",
    "        for j in range(0,N):\n",
    "            if (not(chercher(i,j))) and (chess_board[i][j]!=1):\n",
    "                chess_board[i][j] = 1\n",
    "                if Solution(n-1)==True:\n",
    "                    return True\n",
    "                chess_board[i][j] = 0\n",
    "\n",
    "    return False\n",
    "\n",
    "Solution(N)\n",
    "t=1\n",
    "for i in range(0,N):\n",
    "    for j in range(0,N):\n",
    "        if (chess_board[i][j] == 1):\n",
    "            t+=1\n",
    "            p=\"y\"+str(t)\n",
    "            chess_board[i][j] = p\n",
    "for i in chess_board:\n",
    "    print (i)"
   ]
  },
  {
   "cell_type": "code",
   "execution_count": null,
   "metadata": {},
   "outputs": [],
   "source": []
  }
 ],
 "metadata": {
  "kernelspec": {
   "display_name": "Python 3",
   "language": "python",
   "name": "python3"
  }
 },
 "nbformat": 4,
 "nbformat_minor": 4
}
