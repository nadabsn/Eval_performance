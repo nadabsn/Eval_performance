{
 "cells": [
  {
   "cell_type": "code",
   "execution_count": null,
   "metadata": {},
   "outputs": [],
   "source": [
    "import tkinter as tk\n",
    "from tkinter import Label,Entry\n",
    "import os, _thread\n",
    "from PIL import Image, ImageTk\n",
    "def run_proc():\n",
    "    \n",
    "    os.system(r\"D:\\NADA\\Downloads\\Compressed\\procexp.exe\")\n",
    "\n",
    "def para_window():\n",
    "\n",
    "    win_2 = tk.Tk()\n",
    "    win_2.title(\"Paramétre\")\n",
    "    win_2.geometry(\"400x300\")\n",
    "    frame_2 = tk.Frame(win_2)\n",
    "    frame_2.pack()\n",
    "    txt_2=Label(frame_2,text=\"Insérez le nombre de disk\")\n",
    "    txt_2.grid(row=0,column=3,pady=20,padx=100)\n",
    "    box=Entry(frame_2)        \n",
    "    box.grid(row=1,column=3)\n",
    "    btn_valide = tk.Button(frame_2,text=\"Valider\",fg=\"red\")\n",
    "    btn_valide.grid(row=2,column=3,pady=10,padx=100) \n",
    "\n",
    "    try:\n",
    "        \n",
    "        def open_disk():\n",
    "            os.system(r\"D:\\NADA\\Downloads\\Compressed\\DiskBench.exe\")\n",
    "\n",
    "        def run_disk():\n",
    "            n=int(float(box.get()))\n",
    "            \n",
    "            for i in range(1,n+1):\n",
    "        \n",
    "                _thread.start_new_thread(open_disk, ())\n",
    "            win_2.destroy()\n",
    "    \n",
    "        btn_valide.config(command=run_disk)\n",
    "        \n",
    "        \n",
    "    except ValueError:\n",
    "       return \"nope\"\n",
    "\n",
    "win=tk.Tk()\n",
    "win.title(\"Evaluation de performance\")\n",
    "win.geometry(\"800x250\")\n",
    "frame=tk.Frame(win)\n",
    "frame.pack()\n",
    "logo = tk.PhotoImage(master=win ,file=r\"D:\\NADA\\Downloads\\logo_isitcomm.gif\")\n",
    "btn_proc=tk.Button(frame,text=\"PROCESS EXPLORER\",fg=\"red\",height=\"2\" ,command=run_proc)\n",
    "btn_disk=tk.Button(frame,text=\"DISK BENCH\",fg=\"green\",height=\"2\" ,command=para_window)\n",
    "\n",
    "btn_proc.grid(row=3,column=3,pady=10,padx=10)\n",
    "btn_disk.grid(row=2,column=3,pady=10,padx=10)\n",
    "\n",
    "txt=Label(frame,text=\"Réalisé par BEN SLIMEN Nada et MEJRI Hazem\", fg = \"dark blue\", bg = \"light blue\",font = \"Helvetica 16 bold italic\" )\n",
    "w1 = tk.Label(frame, image=logo)\n",
    "txt.grid(row=0,column=3,pady=10,padx=100)\n",
    "w1.grid(row=0,column=0,pady=15,padx=10)\n",
    "win.mainloop()"
   ]
  },
  {
   "cell_type": "code",
   "execution_count": null,
   "metadata": {},
   "outputs": [],
   "source": []
  },
  {
   "cell_type": "code",
   "execution_count": null,
   "metadata": {},
   "outputs": [],
   "source": []
  }
 ],
 "metadata": {
  "kernelspec": {
   "display_name": "Python 3",
   "language": "python",
   "name": "python3"
  },
  "language_info": {
   "codemirror_mode": {
    "name": "ipython",
    "version": 3
   },
   "file_extension": ".py",
   "mimetype": "text/x-python",
   "name": "python",
   "nbconvert_exporter": "python",
   "pygments_lexer": "ipython3",
   "version": "3.8.3"
  }
 },
 "nbformat": 4,
 "nbformat_minor": 4
}
